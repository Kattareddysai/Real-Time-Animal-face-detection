{
 "cells": [
  {
   "cell_type": "markdown",
   "id": "40c67fb1",
   "metadata": {},
   "source": [
    "# 1. Installing Dependencies"
   ]
  },
  {
   "cell_type": "code",
   "execution_count": null,
   "id": "7eac2cbd",
   "metadata": {},
   "outputs": [],
   "source": [
    "!pip3 install torch==1.8.2 torchvision==0.9.2 torchaudio===0.8.2 --extra-index-url https://download.pytorch.org/whl/lts/1.8/cu111"
   ]
  },
  {
   "cell_type": "code",
   "execution_count": null,
   "id": "f17ff4be",
   "metadata": {},
   "outputs": [],
   "source": [
    "!pip3 install torch torchvision torchaudio --extra-index-url https://download.pytorch.org/whl/cu116"
   ]
  },
  {
   "cell_type": "code",
   "execution_count": null,
   "id": "ed01b8ae",
   "metadata": {},
   "outputs": [],
   "source": [
    "%cd yolov5"
   ]
  },
  {
   "cell_type": "code",
   "execution_count": null,
   "id": "9bf08c14",
   "metadata": {},
   "outputs": [],
   "source": [
    "!pip install -r requirements.txt"
   ]
  },
  {
   "cell_type": "code",
   "execution_count": 1,
   "id": "169dcf5d",
   "metadata": {},
   "outputs": [],
   "source": [
    "import torch\n",
    "from matplotlib import pyplot as plt\n",
    "import cv2\n",
    "import numpy as np"
   ]
  },
  {
   "cell_type": "markdown",
   "id": "22cfbeaa",
   "metadata": {},
   "source": [
    "# 2. Load Model"
   ]
  },
  {
   "cell_type": "code",
   "execution_count": 6,
   "id": "9c86c502",
   "metadata": {},
   "outputs": [
    {
     "name": "stderr",
     "output_type": "stream",
     "text": [
      "Using cache found in C:\\Users\\91630/.cache\\torch\\hub\\ultralytics_yolov5_master\n",
      "YOLOv5  2023-4-23 Python-3.8.10 torch-2.0.0+cpu CPU\n",
      "\n",
      "Fusing layers... \n"
     ]
    },
    {
     "name": "stdout",
     "output_type": "stream",
     "text": [
      "\u001b[31m\u001b[1mrequirements:\u001b[0m C:\\Users\\91630\\.cache\\torch\\hub\\requirements.txt not found, check failed.\n"
     ]
    },
    {
     "name": "stderr",
     "output_type": "stream",
     "text": [
      "YOLOv5s summary: 213 layers, 7225885 parameters, 0 gradients\n",
      "Adding AutoShape... \n"
     ]
    }
   ],
   "source": [
    "model = torch.hub.load('ultralytics/yolov5', 'yolov5s')"
   ]
  },
  {
   "cell_type": "markdown",
   "id": "d8040fe1",
   "metadata": {},
   "source": [
    "# 3. Make Detection with Images"
   ]
  },
  {
   "cell_type": "code",
   "execution_count": null,
   "id": "7cc1ea11",
   "metadata": {},
   "outputs": [],
   "source": [
    "imgs = \"./data/images/zebra.jpg\""
   ]
  },
  {
   "cell_type": "code",
   "execution_count": null,
   "id": "1aa415a7",
   "metadata": {
    "scrolled": true
   },
   "outputs": [],
   "source": [
    "results = model(imgs)\n",
    "results.print()"
   ]
  },
  {
   "cell_type": "code",
   "execution_count": null,
   "id": "15e408cb",
   "metadata": {},
   "outputs": [],
   "source": [
    "results.show()"
   ]
  },
  {
   "cell_type": "code",
   "execution_count": null,
   "id": "81ce8f25",
   "metadata": {},
   "outputs": [],
   "source": [
    "%matplotlib inline\n",
    "plt.imshow(np.squeeze(results.render()))\n",
    "plt.show()"
   ]
  },
  {
   "cell_type": "code",
   "execution_count": null,
   "id": "9191f447",
   "metadata": {},
   "outputs": [],
   "source": [
    "plt.imshow(np.squeeze(results.render()))"
   ]
  },
  {
   "cell_type": "code",
   "execution_count": null,
   "id": "4d43540d",
   "metadata": {},
   "outputs": [],
   "source": [
    "img = \"./data/images/elephant.jpg\""
   ]
  },
  {
   "cell_type": "code",
   "execution_count": null,
   "id": "bb5ece8c",
   "metadata": {},
   "outputs": [],
   "source": [
    "result = model(img)\n",
    "result.print()"
   ]
  },
  {
   "cell_type": "code",
   "execution_count": null,
   "id": "67e92b0d",
   "metadata": {},
   "outputs": [],
   "source": [
    "plt.imshow(np.squeeze(result.render()))"
   ]
  },
  {
   "cell_type": "markdown",
   "id": "f655252b",
   "metadata": {},
   "source": [
    "# 4. Real time detection "
   ]
  },
  {
   "cell_type": "code",
   "execution_count": null,
   "id": "9ad023c6",
   "metadata": {},
   "outputs": [],
   "source": [
    "cap = cv2.VideoCapture(0)\n",
    "#cap.set(cv2.CAP_PROP_FRAME_WIDTH, 240)\n",
    "#cap.set(cv2.CAP_PROP_FRAME_HEIGHT, 180)\n",
    "#cap.set(cv2.CAP_PROP_FPS, 25)\n",
    "while cap.isOpened():\n",
    "    \n",
    "    ret, frame = cap.read()\n",
    "    \n",
    "    #make Detection\n",
    "    results = model(frame)\n",
    "    cv2.imshow('YOLO', np.squeeze(results.render()))\n",
    "    if cv2.waitKey(10) & 0xFF == ord('q'):\n",
    "        break\n",
    "cap.release()\n",
    "cv2.destroyAllWindows()"
   ]
  },
  {
   "cell_type": "code",
   "execution_count": null,
   "id": "8e1f5064",
   "metadata": {},
   "outputs": [],
   "source": [
    "img = os.path.join('data', 'images', 'UW39.jpg')"
   ]
  },
  {
   "cell_type": "code",
   "execution_count": null,
   "id": "0b6a08c2",
   "metadata": {},
   "outputs": [],
   "source": [
    "result  = model(img)\n",
    "result.print()"
   ]
  },
  {
   "cell_type": "code",
   "execution_count": null,
   "id": "a396af8d",
   "metadata": {},
   "outputs": [],
   "source": [
    "result.show()"
   ]
  },
  {
   "cell_type": "code",
   "execution_count": null,
   "id": "b00bc9ed",
   "metadata": {},
   "outputs": [],
   "source": [
    "cap = cv2.VideoCapture(0)\n",
    "#cap.set(cv2.CAP_PROP_FRAME_WIDTH, 240)\n",
    "#cap.set(cv2.CAP_PROP_FRAME_HEIGHT, 180)\n",
    "#cap.set(cv2.CAP_PROP_FPS, 25)\n",
    "while cap.isOpened():\n",
    "    \n",
    "    ret, frame = cap.read()\n",
    "    \n",
    "    #make Detection\n",
    "    results = model(frame)\n",
    "    cv2.imshow('YOLO', np.squeeze(results.render()))\n",
    "    if cv2.waitKey(10) & 0xFF == ord('q'):\n",
    "        break\n",
    "cap.release()\n",
    "cv2.destroyAllWindows()"
   ]
  },
  {
   "cell_type": "code",
   "execution_count": null,
   "id": "e0ffe12c",
   "metadata": {},
   "outputs": [],
   "source": [
    "import numpy as np\n",
    "import cv2\n",
    "import torch\n",
    "import torch.backends.cudnn as cudnn\n",
    "from models.experimental import attempt_load\n",
    "from utils.general import non_max_suppression\n",
    "import telepot\n",
    "token = '5690676463:AAFkAcEWGBvsTGjwB3tFUMHUKDG3iRpOuQw' # todo -1\n",
    "receiver_id = 733385940 # your receiver id # todo -2\n",
    "bot = telepot.Bot(token)\n",
    "\n",
    "device = torch.device('cuda' if torch.cuda.is_available() else 'cpu')\n",
    "model = attempt_load('yolov5s.pt', map_location=device)  # model weight here, replace yolov5s.pt\n",
    "stride = int(model.stride.max()) \n",
    "cudnn.benchmark = True\n",
    "\n",
    "names = model.module.names if hasattr(model, 'module') else model.names\n",
    "url = 'http://commondatastorage.googleapis.com/gtv-videos-bucket/sample/WeAreGoingOnBullrun.mp4'\n",
    "\n",
    "cap = cv2.VideoCapture(url) # source: replace the 0 for other source.\n",
    "while(cap.isOpened()):\n",
    "    ret, frame = cap.read()\n",
    "    frame = cv2.resize(frame, (640, 480)) # resizing original image\n",
    "    if ret == True:\n",
    "        img = torch.from_numpy(frame)\n",
    "        img = img.permute(2, 0, 1 ).float().to(device)\n",
    "        img /= 255.0  # 0 - 255 to 0.0 - 1.0\n",
    "        if img.ndimension() == 3:\n",
    "            img = img.unsqueeze(0)\n",
    "\n",
    "        pred = model(img, augment=False)[0]\n",
    "        pred = non_max_suppression(pred, 0.30, 0.45) # img, conf, iou\n",
    "\n",
    "        for i, det in enumerate(pred):\n",
    "            if len(det): \n",
    "                for d in det: # d = (x1, y1, x2, y2, conf, cls)\n",
    "                    x1 = int(d[0].item())\n",
    "                    y1 = int(d[1].item())\n",
    "                    x2 = int(d[2].item())\n",
    "                    y2 = int(d[3].item())\n",
    "                    conf = round(d[4].item(), 2)\n",
    "                    c = int(d[5].item())\n",
    "                    \n",
    "                    frame = cv2.rectangle(frame, (x1, y1), (x2, y2), (255,0,0), 2) # box\n",
    "                    frame = cv2.putText(frame, names[c], (x1, y1), cv2.FONT_HERSHEY_SIMPLEX, 1, (0,0,255), 2, cv2.LINE_AA) # object name\n",
    "                    print(x1, y1, x2, y2, conf, c) # print (x1, y1, x2, y2, conf, cls)\n",
    "                    \n",
    "                    if names[c] == 'person':\n",
    "                        bot.sendMessage(receiver_id, 'A person Detected !')\n",
    "\n",
    "\n",
    "\n",
    "\n",
    "        cv2.imshow('frame',frame)\n",
    "        if cv2.waitKey(1) & 0xFF == ord('q'):\n",
    "            break\n",
    "\n",
    "    else:\n",
    "        break\n",
    "\n",
    "\n",
    "cap.release()\n",
    "cv2.destroyAllWindows()"
   ]
  },
  {
   "cell_type": "code",
   "execution_count": null,
   "id": "b662c999",
   "metadata": {},
   "outputs": [],
   "source": [
    "!pip3 install models"
   ]
  },
  {
   "cell_type": "code",
   "execution_count": null,
   "id": "547e7c5c",
   "metadata": {},
   "outputs": [],
   "source": [
    "!pip3 install models==0.9.3"
   ]
  },
  {
   "cell_type": "code",
   "execution_count": null,
   "id": "0f094e86",
   "metadata": {},
   "outputs": [],
   "source": [
    "!pip3 install base"
   ]
  },
  {
   "cell_type": "code",
   "execution_count": null,
   "id": "0feb23d3",
   "metadata": {},
   "outputs": [],
   "source": []
  },
  {
   "cell_type": "code",
   "execution_count": null,
   "id": "93d22880",
   "metadata": {},
   "outputs": [],
   "source": []
  },
  {
   "cell_type": "code",
   "execution_count": null,
   "id": "7d858610",
   "metadata": {},
   "outputs": [],
   "source": []
  },
  {
   "cell_type": "code",
   "execution_count": null,
   "id": "12e4ae8f",
   "metadata": {},
   "outputs": [],
   "source": []
  }
 ],
 "metadata": {
  "kernelspec": {
   "display_name": "Python 3 (ipykernel)",
   "language": "python",
   "name": "python3"
  },
  "language_info": {
   "codemirror_mode": {
    "name": "ipython",
    "version": 3
   },
   "file_extension": ".py",
   "mimetype": "text/x-python",
   "name": "python",
   "nbconvert_exporter": "python",
   "pygments_lexer": "ipython3",
   "version": "3.8.10"
  }
 },
 "nbformat": 4,
 "nbformat_minor": 5
}
